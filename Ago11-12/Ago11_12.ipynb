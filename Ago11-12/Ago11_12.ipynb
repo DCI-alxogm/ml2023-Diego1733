{
  "nbformat": 4,
  "nbformat_minor": 0,
  "metadata": {
    "colab": {
      "provenance": [],
      "authorship_tag": "ABX9TyMn4fMW2ei+bjb8IQBrqDgo",
      "include_colab_link": true
    },
    "kernelspec": {
      "name": "python3",
      "display_name": "Python 3"
    },
    "language_info": {
      "name": "python"
    }
  },
  "cells": [
    {
      "cell_type": "markdown",
      "metadata": {
        "id": "view-in-github",
        "colab_type": "text"
      },
      "source": [
        "<a href=\"https://colab.research.google.com/github/DCI-alxogm/ml2023-Diego1733/blob/main/Ago11-12/Ago11_12.ipynb\" target=\"_parent\"><img src=\"https://colab.research.google.com/assets/colab-badge.svg\" alt=\"Open In Colab\"/></a>"
      ]
    },
    {
      "cell_type": "markdown",
      "source": [
        "LISTAS:"
      ],
      "metadata": {
        "id": "XOgnmLpNzhzE"
      }
    },
    {
      "cell_type": "code",
      "execution_count": 5,
      "metadata": {
        "id": "zvKaZdQM7MN4",
        "colab": {
          "base_uri": "https://localhost:8080/"
        },
        "outputId": "f2a5a842-8e4a-482d-b5df-5dadfb6afb30"
      },
      "outputs": [
        {
          "output_type": "stream",
          "name": "stdout",
          "text": [
            "[2, '2', 'dos', 2.0, 3, '3', 3.0]\n",
            "[2, '2', 'dos', 2.0, 2, '2', 'dos', 2.0, 2, '2', 'dos', 2.0]\n",
            "[2, '2', 'dos', 2.0, 'two']\n",
            "[2, 'dos', 2.0, 'two']\n",
            "[2, 'dos', 'two']\n",
            "2\n",
            "dos\n",
            "two\n",
            "\n",
            "\n",
            "list[0]\n",
            "list[1]\n",
            "list[2]\n",
            "\n",
            "\n",
            "0 2\n",
            "1 dos\n",
            "2 two\n"
          ]
        }
      ],
      "source": [
        "list1 = [2, \"2\", \"dos\", 2.0]\n",
        "list2 = [3, \"3\", 3.0]\n",
        "print(list1 + list2)      #SUMAR LISTAS\n",
        "print(list1 * 3)          #QUÉ PASA CUANDO SE MULTIPLICAN LISTAS\n",
        "list1.append(\"two\")       #AÑADE AL FINAL DE LA LISTA\n",
        "print(list1)\n",
        "list1.remove(\"2\")\n",
        "print(list1)\n",
        "del list1[2]\n",
        "print(list1)\n",
        "print(\"\\n\")\n",
        "#RECORRER LISTAS\n",
        "for i in list1:\n",
        "  print(i)\n",
        "print(\"\\n\")\n",
        "\n",
        "#ESTO ES EQUIVALENTE\n",
        "for i in range (len(list1)):\n",
        "  print(list[i])\n",
        "print(\"\\n\")\n",
        "\n",
        "#IMRPIME LOS ELEMENTOS Y LA ENUMERACIÓN\n",
        "for i, item in enumerate(list1):\n",
        "  \"\"\"\n",
        "  enumerate regresa dos cosas:\n",
        "  enumerate(iterable, start=0)\n",
        "  \"\"\"\n",
        "  print(i, item)"
      ]
    },
    {
      "cell_type": "markdown",
      "source": [
        "ARREGLOS\n",
        "\n",
        "(Qué es una tupla?\n",
        " son inmutables, lo que significa que una vez creada una tupla, sus elementos no pueden cambiar)"
      ],
      "metadata": {
        "id": "qjnlBpUD3TTY"
      }
    },
    {
      "cell_type": "code",
      "source": [
        "\"\"\"\n",
        "Para definir un arreglo se deben usar librerías en python, por ejemplo en numpy, array\n",
        "\"\"\"\n",
        "#ARREGLOS POR\n",
        "import array as arr\n",
        "\n",
        "arreglo = arr.array(\"i\", [1, 2, 3])     #arreglo de enteros\n",
        "print(arreglo)\n",
        "arreglof = arr.array(\"f\", [1, 2, 3])    #arreglo de flotantes\n",
        "print(arreglof)\n",
        "arreglo2 = arr.array(\"i\", [2, 3, 4])\n",
        "\n",
        "#ARREGLO POR NUMPY\n",
        "import numpy as np\n",
        "print(\"\\n\")\n",
        "nparr1 = np.array([1, 2, 3])\n",
        "print(nparr1)\n",
        "nparr2 = np.array([4, 5, 6])\n",
        "print(nparr1 * nparr2)\n",
        "print(2 * nparr1)\n",
        "#IMPORTANTE, PARA OPERAR CON ARREGLOS, DEBEN SER DE LA MISMA LONGITUD\n",
        "\n",
        "print(f\"Producto punto: {np.dot(nparr1, nparr2)}\")\n",
        "print(f\"División, entonces trabaja elemento a elemento: {nparr1 / nparr2}\")\n"
      ],
      "metadata": {
        "colab": {
          "base_uri": "https://localhost:8080/"
        },
        "id": "ZLJPCnFg3cS_",
        "outputId": "0019d5c0-fa3b-4c95-f215-18eaef67244e"
      },
      "execution_count": 14,
      "outputs": [
        {
          "output_type": "stream",
          "name": "stdout",
          "text": [
            "array('i', [1, 2, 3])\n",
            "array('f', [1.0, 2.0, 3.0])\n",
            "\n",
            "\n",
            "[1 2 3]\n",
            "[ 4 10 18]\n",
            "[2 4 6]\n",
            "Producto punto: 32\n"
          ]
        },
        {
          "output_type": "execute_result",
          "data": {
            "text/plain": [
              "array([0.25, 0.4 , 0.5 ])"
            ]
          },
          "metadata": {},
          "execution_count": 14
        }
      ]
    }
  ]
}